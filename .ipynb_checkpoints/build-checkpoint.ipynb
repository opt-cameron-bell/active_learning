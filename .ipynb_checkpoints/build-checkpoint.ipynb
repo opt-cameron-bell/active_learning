{
 "cells": [
  {
   "cell_type": "code",
   "execution_count": 3,
   "metadata": {},
   "outputs": [
    {
     "data": {
      "application/vnd.jupyter.widget-view+json": {
       "model_id": "4b2ed84f9ecb43eab741b0981e00b2c9",
       "version_major": 2,
       "version_minor": 0
      },
      "text/plain": [
       "ClassLabeller(children=(HBox(children=(FloatProgress(value=0.0, description='Progress:', max=1.0),)), Box(chil…"
      ]
     },
     "metadata": {},
     "output_type": "display_data"
    }
   ],
   "source": [
    "from sklearn.datasets import load_digits\n",
    "import numpy as np\n",
    "digits = load_digits().data\n",
    "\n",
    "def display_preprocessing(x):\n",
    "    return x.reshape(8, 8)\n",
    "\n",
    "from superintendent.distributed import ClassLabeller\n",
    "\n",
    "widget = ClassLabeller.from_images(\n",
    "    connection_string=\"sqlite:///demo.db\",\n",
    "    options=range(10),\n",
    "    canvas_size=(200, 200),\n",
    "    display_preprocess=display_preprocessing\n",
    ")\n",
    "\n",
    "widget"
   ]
  },
  {
   "cell_type": "code",
   "execution_count": null,
   "metadata": {},
   "outputs": [],
   "source": []
  }
 ],
 "metadata": {
  "kernelspec": {
   "display_name": "Python 3.8.3 64-bit ('base': conda)",
   "name": "python383jvsc74a57bd02975f3311834ffc72750417b79d93db6b8ab46d9ed4bda85fa63f96880a27236"
  },
  "language_info": {
   "codemirror_mode": {
    "name": "ipython",
    "version": 3
   },
   "file_extension": ".py",
   "mimetype": "text/x-python",
   "name": "python",
   "nbconvert_exporter": "python",
   "pygments_lexer": "ipython3",
   "version": "3.8.3"
  }
 },
 "nbformat": 4,
 "nbformat_minor": 2
}
