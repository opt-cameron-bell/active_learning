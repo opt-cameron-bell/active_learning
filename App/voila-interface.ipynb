{
 "metadata": {
  "language_info": {
   "codemirror_mode": {
    "name": "ipython",
    "version": 3
   },
   "file_extension": ".py",
   "mimetype": "text/x-python",
   "name": "python",
   "nbconvert_exporter": "python",
   "pygments_lexer": "ipython3",
   "version": 3
  },
  "orig_nbformat": 2
 },
 "nbformat": 4,
 "nbformat_minor": 2,
 "cells": [
  {
   "cell_type": "code",
   "execution_count": null,
   "metadata": {},
   "outputs": [],
   "source": [
    "import os\n",
    "from superintendent.distributed import ClassLabeller\n",
    "\n",
    "user = os.getenv('POSTGRES_USER', \"superintendent\")\n",
    "pw = os.getenv('POSTGRES_PASSWORD', \"superintendent\")\n",
    "db_name = os.getenv('POSTGRES_DB', \"labelling\")\n",
    "\n",
    "db_string = f\"postgresql+psycopg2://{user}:{pw}@db:5432/{db_name}\"\n",
    "\n",
    "widget = ClassLabeller.from_images(\n",
    "    canvas_size=(200, 200),\n",
    "    connection_string=db_string,\n",
    "    options=range(10),\n",
    "    display_preprocess=lambda x: x.reshape(8, 8),\n",
    ")\n",
    "widget"
   ]
  }
 ]
}